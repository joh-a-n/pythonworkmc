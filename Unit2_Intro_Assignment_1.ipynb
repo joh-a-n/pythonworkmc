{
  "nbformat": 4,
  "nbformat_minor": 0,
  "metadata": {
    "colab": {
      "name": "Copy of Unit2_Intro_Assignment_1.ipynb",
      "provenance": [],
      "collapsed_sections": [],
      "include_colab_link": true
    },
    "kernelspec": {
      "name": "python3",
      "display_name": "Python 3"
    }
  },
  "cells": [
    {
      "cell_type": "markdown",
      "metadata": {
        "id": "view-in-github",
        "colab_type": "text"
      },
      "source": [
        "<a href=\"https://colab.research.google.com/github/joh-a-n/pythonworkmc/blob/main/Unit2_Intro_Assignment_1.ipynb\" target=\"_parent\"><img src=\"https://colab.research.google.com/assets/colab-badge.svg\" alt=\"Open In Colab\"/></a>"
      ]
    },
    {
      "cell_type": "markdown",
      "metadata": {
        "id": "Vgs8Kp4TidFQ"
      },
      "source": [
        "# Lesson 1 - Intrdouction to Python - Assignment 1\n",
        "\n",
        "> Indented block\n",
        "\n"
      ]
    },
    {
      "cell_type": "markdown",
      "metadata": {
        "id": "_Hq7Ny79iwgD"
      },
      "source": [
        "## 1.\tWhat is Python and why is it useful?"
      ]
    },
    {
      "cell_type": "markdown",
      "metadata": {
        "id": "DBd0pMkDi0pv"
      },
      "source": [
        "Python is a programming language that allows us to more easily create programs to do what otherwise would be more difficult tasks"
      ]
    },
    {
      "cell_type": "markdown",
      "metadata": {
        "id": "io_27RSlizno"
      },
      "source": [
        "## 2.\tAre the following variable names allowed in python?"
      ]
    },
    {
      "cell_type": "markdown",
      "metadata": {
        "id": "9_GYv9VTiqrI"
      },
      "source": [
        "a.\t1_message\n",
        "No\n",
        "b.\tGreeting_message\n",
        "Yes\n",
        "c.\tMessage_1\n",
        "Yes\n",
        "d.\tFirst name\n",
        "No\n",
        "e.\tFull_name\n",
        "Yes\n"
      ]
    },
    {
      "cell_type": "markdown",
      "metadata": {
        "id": "b5M6t8YjjPaZ"
      },
      "source": [
        ""
      ]
    },
    {
      "cell_type": "markdown",
      "metadata": {
        "id": "DAW8m8IQjRyR"
      },
      "source": [
        "## 3.\tCreate a variable that holds the string “hello there!”"
      ]
    },
    {
      "cell_type": "code",
      "metadata": {
        "id": "guULMEhrjYtT"
      },
      "source": [
        "hi = 'hello there!'"
      ],
      "execution_count": null,
      "outputs": []
    },
    {
      "cell_type": "code",
      "metadata": {
        "id": "cv946RaOjw-G"
      },
      "source": [
        ""
      ],
      "execution_count": null,
      "outputs": []
    },
    {
      "cell_type": "markdown",
      "metadata": {
        "id": "dpa_YOt4jXyo"
      },
      "source": [
        "## 4.\tCreate a variable for first name, last name and an email extension.  Concatenating all three together to form an email address.  For example: firstnamelastname@gmail.com"
      ]
    },
    {
      "cell_type": "code",
      "metadata": {
        "id": "pltxfnh3iJLW",
        "colab": {
          "base_uri": "https://localhost:8080/"
        },
        "outputId": "d57147d6-7cde-47b9-fa8a-d12b38d1f9ec"
      },
      "source": [
        "first_name = 'johan'\n",
        "last_name = 'gonzalez'\n",
        "email = '@gmail.com'\n",
        "print(first_name + last_name + email)"
      ],
      "execution_count": null,
      "outputs": [
        {
          "output_type": "stream",
          "name": "stdout",
          "text": [
            "johangonzalez@gmail.com\n"
          ]
        }
      ]
    },
    {
      "cell_type": "code",
      "metadata": {
        "id": "PzH5Rcn-jwPL"
      },
      "source": [
        ""
      ],
      "execution_count": null,
      "outputs": []
    },
    {
      "cell_type": "markdown",
      "metadata": {
        "id": "Ka84RGy4jmLT"
      },
      "source": [
        "## 5.\tStore someone you know name in a variable called name.  Print their name in lower and uppercase using a method."
      ]
    },
    {
      "cell_type": "code",
      "metadata": {
        "id": "34IFFtK4jrg4",
        "colab": {
          "base_uri": "https://localhost:8080/"
        },
        "outputId": "8fa1ddc3-47a4-4c07-bbb3-fad3adb5df48"
      },
      "source": [
        "name = 'John'\n",
        "print(name.upper())\n",
        "print(name.lower())"
      ],
      "execution_count": null,
      "outputs": [
        {
          "output_type": "stream",
          "name": "stdout",
          "text": [
            "JOHN\n",
            "john\n"
          ]
        }
      ]
    },
    {
      "cell_type": "code",
      "metadata": {
        "id": "M17RfxQljvqb"
      },
      "source": [
        ""
      ],
      "execution_count": null,
      "outputs": []
    },
    {
      "cell_type": "code",
      "metadata": {
        "id": "4agTp_Cyju4-"
      },
      "source": [
        ""
      ],
      "execution_count": null,
      "outputs": []
    }
  ]
}